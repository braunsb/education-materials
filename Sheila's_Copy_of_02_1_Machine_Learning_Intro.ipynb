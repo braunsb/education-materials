{
  "nbformat": 4,
  "nbformat_minor": 0,
  "metadata": {
    "anaconda-cloud": {},
    "colab": {
      "name": "Sheila's Copy of 02.1-Machine-Learning-Intro.ipynb",
      "provenance": [],
      "collapsed_sections": [],
      "toc_visible": true,
      "include_colab_link": true
    },
    "kernelspec": {
      "display_name": "Python 3",
      "language": "python",
      "name": "python3"
    },
    "language_info": {
      "codemirror_mode": {
        "name": "ipython",
        "version": 3
      },
      "file_extension": ".py",
      "mimetype": "text/x-python",
      "name": "python",
      "nbconvert_exporter": "python",
      "pygments_lexer": "ipython3",
      "version": "3.7.3"
    }
  },
  "cells": [
    {
      "cell_type": "markdown",
      "metadata": {
        "id": "view-in-github",
        "colab_type": "text"
      },
      "source": [
        "<a href=\"https://colab.research.google.com/github/braunsb/education-materials/blob/master/Sheila's_Copy_of_02_1_Machine_Learning_Intro.ipynb\" target=\"_parent\"><img src=\"https://colab.research.google.com/assets/colab-badge.svg\" alt=\"Open In Colab\"/></a>"
      ]
    },
    {
      "cell_type": "markdown",
      "metadata": {
        "colab_type": "text",
        "id": "BIRQpONSkjiP"
      },
      "source": [
        "<small><i>This notebook was put together by [Jake Vanderplas](http://www.vanderplas.com) and [Zoë Wilkinson-Saldaña](http://push-your-brand-here). Source and license info is on [GitHub](https://github.com/jakevdp/sklearn_tutorial/).</i></small>"
      ]
    },
    {
      "cell_type": "markdown",
      "metadata": {
        "colab_type": "text",
        "id": "-ip6kH_LkjiS"
      },
      "source": [
        "# Part One: Introduction & Classification with Scikit-learn"
      ]
    },
    {
      "cell_type": "markdown",
      "metadata": {
        "colab_type": "text",
        "id": "ZZP67XlnkjiU"
      },
      "source": [
        "## Outline\n",
        "\n",
        "**Main Goal:** Introduce the machine learning pipeline in `scikit-learn`\n",
        "\n",
        "- Define Jupyter Notebooks\n",
        "- Learn what machine learning is\n",
        "- Try representing data in `scikit-learn`\n",
        "- Try classifying data with the `iris` data"
      ]
    },
    {
      "cell_type": "markdown",
      "metadata": {
        "id": "yR07DTwZS-b4",
        "colab_type": "text"
      },
      "source": [
        "## About Notebooks in Google Colab\n",
        "\n",
        "This lesson is composed as a Jupyter Notebook. A Jupyter Notebook provides a computational environment in which to run, write, and edit code snippets alongside text and other content in Markdown format.\n",
        "\n",
        "You have a number of options for how to run Jupyter Notebooks. For this workshop, we will use the cloud-based computational environment *Google Colaboratory* (or *Google Colab*). To execute code in a cell, select it,  then either press the play button to the left of the code or use the keyboard shortcut `Command/Ctrl+Enter`. To edit code, just click the cell and start editing."
      ]
    },
    {
      "cell_type": "markdown",
      "metadata": {
        "colab_type": "text",
        "id": "5lTI3-7QkjiW"
      },
      "source": [
        "## About `Scikit-Learn`\n",
        "\n",
        "[`Scikit-Learn`](http://github.com/scikit-learn/scikit-learn) is a Python package designed to give access to **well-known** machine learning algorithms within Python code through a **clean, well-thought-out API**. Hundreds of contributors from around the world built it and it is used across industry and academia.\n",
        "\n",
        "`Scikit-Learn` is built upon Python's [`NumPy` (Numerical Python)](http://numpy.org) and [`SciPy` (Scientific Python)](http://scipy.org) libraries, which enable efficient in-core numerical and scientific computation within Python. Other popular ML libraries in Python include [`TensorFlow`](https://www.tensorflow.org/) and [`PyTorch`](https://pytorch.org/)."
      ]
    },
    {
      "cell_type": "markdown",
      "metadata": {
        "colab_type": "text",
        "id": "itYkBcy4kjiZ"
      },
      "source": [
        "## What is Machine Learning?\n",
        "\n",
        "Machine learning is about building programs with **tunable parameters** (typically an\n",
        "array of *floating point values*) that are adjusted automatically so as to improve\n",
        "their behavior by **adapting to previously seen data.**\n",
        "\n",
        "Machine learning is a subfield of **Artificial Intelligence** in that algorithms are building blocks to make computers learn and behave more\n",
        "intelligently by (somehow) **generalizing** rather that just storing and retrieving data items\n",
        "like a database system would do.\n",
        "\n",
        "We'll look at two very simple machine learning tasks here.\n",
        "The first is a **classification** task to produce a plot of two-dimensional data colored according to two different class\n",
        "labels. A classification algorithm draws the dividing boundary\n",
        "between the two clusters of points. \n",
        "\n",
        "First, let's import the libraries Python needs to use to execute our later code. You won't see anything when you run this code. All the magic happens behind the scenes."
      ]
    },
    {
      "cell_type": "code",
      "metadata": {
        "colab_type": "code",
        "id": "HQxmeI7wkjib",
        "colab": {}
      },
      "source": [
        "%matplotlib inline\n",
        "import matplotlib.pyplot as plt\n",
        "import numpy as np\n",
        "import pandas as pd\n",
        "\n",
        "plt.style.use('seaborn')"
      ],
      "execution_count": 0,
      "outputs": []
    },
    {
      "cell_type": "markdown",
      "metadata": {
        "colab_type": "text",
        "id": "m7J296gykjix"
      },
      "source": [
        "## Representation of Data in `Scikit-learn`\n",
        "\n",
        "Machine learning is about creating models from data; therefore we'll start by\n",
        "discussing how to represent data in a way the computer understands.  Along\n",
        "with this, we'll create `matplotlib` examples to visualize the data."
      ]
    },
    {
      "cell_type": "markdown",
      "metadata": {
        "colab_type": "text",
        "id": "QqKTTohMkjiy"
      },
      "source": [
        "Most machine learning algorithms implemented in `scikit-learn` expect data to be stored in a\n",
        "**two-dimensional array or matrix**.  The arrays can be\n",
        "either ``numpy`` arrays, or in some cases ``scipy.sparse`` matrices.\n",
        "The size of the array is expected to be `[n_samples, n_features]`\n",
        "\n",
        "- **`n_samples`.**   The number of samples: Each sample is an item to process (e.g. classify).\n",
        "  A sample can be a document, a picture, a sound, a video, an astronomical object,\n",
        "  a row in database or CSV file,\n",
        "  or whatever you can describe with a fixed set of quantitative traits.\n",
        "- **`n_features`.**  The number of features or distinct traits that can be used to describe each\n",
        "  item in a quantitative manner.  Features are generally real-valued, but may be boolean or\n",
        "  discrete-valued in some cases.\n",
        "\n",
        "You should fix the number of features in advance. The number can be very high\n",
        "(e.g., with millions of features in a \"high dimensional\" data set), perhaps even with most data points being zeros. \n",
        "`scipy.sparse` matrices can be useful if you have a lot of zeroes: They are\n",
        "more memory-efficient than `numpy` arrays."
      ]
    },
    {
      "cell_type": "markdown",
      "metadata": {
        "colab_type": "text",
        "id": "ZVd-6y5fkji0"
      },
      "source": [
        "![Data Layout](https://github.com/jakevdp/sklearn_tutorial/blob/master/notebooks/images/data-layout.png?raw=1)\n",
        "\n",
        "(Figure from the [Python Data Science Handbook](https://github.com/jakevdp/PythonDataScienceHandbook))"
      ]
    },
    {
      "cell_type": "markdown",
      "metadata": {
        "colab_type": "text",
        "id": "SZxVz_6mkji1"
      },
      "source": [
        "## A Simple Example: the Iris Dataset\n",
        "\n",
        "We're going to use the\n",
        "`iris` data bundled with `scikit-learn` (Anderson, 1936; Fisher, 1936).\n",
        "The data consists of measurements of the three different species of iris shown below."
      ]
    },
    {
      "cell_type": "code",
      "metadata": {
        "colab_type": "code",
        "id": "7xID93r9kji2",
        "outputId": "7ed068b8-b986-4b39-d036-5b94fe160749",
        "colab": {
          "base_uri": "https://localhost:8080/",
          "height": 340
        }
      },
      "source": [
        "from IPython.core.display import Image, display\n",
        "Image(url=\"https://raw.githubusercontent.com/jakevdp/sklearn_tutorial/master/notebooks/images/iris_setosa.jpg\")\n",
        "# Iris Setosa"
      ],
      "execution_count": 0,
      "outputs": [
        {
          "output_type": "execute_result",
          "data": {
            "text/html": [
              "<img src=\"https://raw.githubusercontent.com/jakevdp/sklearn_tutorial/master/notebooks/images/iris_setosa.jpg\"/>"
            ],
            "text/plain": [
              "<IPython.core.display.Image object>"
            ]
          },
          "metadata": {
            "tags": []
          },
          "execution_count": 9
        }
      ]
    },
    {
      "cell_type": "code",
      "metadata": {
        "colab_type": "code",
        "id": "9BQSSQiTBxNT",
        "outputId": "f9c48d60-341a-4995-fc6b-1fec403f9f28",
        "colab": {
          "base_uri": "https://localhost:8080/",
          "height": 297
        }
      },
      "source": [
        "Image(url = 'http://raw.githubusercontent.com/jakevdp/sklearn_tutorial/master/notebooks/images/iris_versicolor.jpg')\n",
        "# Iris Versicolor"
      ],
      "execution_count": 0,
      "outputs": [
        {
          "output_type": "execute_result",
          "data": {
            "text/html": [
              "<img src=\"http://raw.githubusercontent.com/jakevdp/sklearn_tutorial/master/notebooks/images/iris_versicolor.jpg\"/>"
            ],
            "text/plain": [
              "<IPython.core.display.Image object>"
            ]
          },
          "metadata": {
            "tags": []
          },
          "execution_count": 10
        }
      ]
    },
    {
      "cell_type": "code",
      "metadata": {
        "colab_type": "code",
        "id": "P1JXzYSxB507",
        "outputId": "569131d3-8c45-4d8f-9ff5-6868ca6b8417",
        "colab": {
          "base_uri": "https://localhost:8080/",
          "height": 422
        }
      },
      "source": [
        "Image(url='http://raw.githubusercontent.com/jakevdp/sklearn_tutorial/master/notebooks/images/iris_virginica.jpg')\n",
        "# print(\"Iris Virginica\")"
      ],
      "execution_count": 0,
      "outputs": [
        {
          "output_type": "execute_result",
          "data": {
            "text/html": [
              "<img src=\"http://raw.githubusercontent.com/jakevdp/sklearn_tutorial/master/notebooks/images/iris_virginica.jpg\"/>"
            ],
            "text/plain": [
              "<IPython.core.display.Image object>"
            ]
          },
          "metadata": {
            "tags": []
          },
          "execution_count": 11
        }
      ]
    },
    {
      "cell_type": "markdown",
      "metadata": {
        "colab_type": "text",
        "id": "89Os4w0bkji7"
      },
      "source": [
        "### Quick Question:\n",
        "\n",
        "**What kind of data does an algorithm to recognize iris species need?**\n",
        "\n",
        "Recall that we need a 2D array of size `[n_samples x n_features]`.\n",
        "\n",
        "- What are the `n_samples`?\n",
        "\n",
        "- What are the `n_features`?\n",
        "\n",
        "Each sample requires a **fixed** number of features, and feature\n",
        "number ``i`` must be a similar kind of quantity for each sample."
      ]
    },
    {
      "cell_type": "markdown",
      "metadata": {
        "colab_type": "text",
        "id": "n4zasqmZkji8"
      },
      "source": [
        "### The `iris` Data\n",
        "\n",
        "The `iris` data is straightforward, with these variables:\n",
        "\n",
        "  - sepal length in cm\n",
        "  - sepal width in cm\n",
        "  - petal length in cm\n",
        "  - petal width in cm\n",
        "\n",
        "Target classes to predict are\n",
        "\n",
        "  - *Iris Setosa*\n",
        "  - *Iris Versicolour*\n",
        "  - *Iris Virginica*\n",
        "  \n",
        "Use a `Scikit-learn` helper function to load the `iris` data into numpy arrays:"
      ]
    },
    {
      "cell_type": "code",
      "metadata": {
        "colab_type": "code",
        "id": "3aU0WDPdkji9",
        "colab": {}
      },
      "source": [
        "from sklearn.datasets import load_iris\n",
        "iris = load_iris()"
      ],
      "execution_count": 0,
      "outputs": []
    },
    {
      "cell_type": "code",
      "metadata": {
        "colab_type": "code",
        "id": "vKZbtI_MkjjB",
        "outputId": "b1fbbf73-7525-49cd-988c-e7e3fc668d5d",
        "colab": {
          "base_uri": "https://localhost:8080/",
          "height": 34
        }
      },
      "source": [
        "iris.keys()"
      ],
      "execution_count": 8,
      "outputs": [
        {
          "output_type": "execute_result",
          "data": {
            "text/plain": [
              "dict_keys(['data', 'target', 'target_names', 'DESCR', 'feature_names', 'filename'])"
            ]
          },
          "metadata": {
            "tags": []
          },
          "execution_count": 8
        }
      ]
    },
    {
      "cell_type": "code",
      "metadata": {
        "id": "sdrF-wyuS-cg",
        "colab_type": "code",
        "outputId": "e7d62802-4d24-4366-944e-da9e6af5332a",
        "colab": {
          "base_uri": "https://localhost:8080/",
          "height": 1000
        }
      },
      "source": [
        "print(iris.DESCR)"
      ],
      "execution_count": 9,
      "outputs": [
        {
          "output_type": "stream",
          "text": [
            ".. _iris_dataset:\n",
            "\n",
            "Iris plants dataset\n",
            "--------------------\n",
            "\n",
            "**Data Set Characteristics:**\n",
            "\n",
            "    :Number of Instances: 150 (50 in each of three classes)\n",
            "    :Number of Attributes: 4 numeric, predictive attributes and the class\n",
            "    :Attribute Information:\n",
            "        - sepal length in cm\n",
            "        - sepal width in cm\n",
            "        - petal length in cm\n",
            "        - petal width in cm\n",
            "        - class:\n",
            "                - Iris-Setosa\n",
            "                - Iris-Versicolour\n",
            "                - Iris-Virginica\n",
            "                \n",
            "    :Summary Statistics:\n",
            "\n",
            "    ============== ==== ==== ======= ===== ====================\n",
            "                    Min  Max   Mean    SD   Class Correlation\n",
            "    ============== ==== ==== ======= ===== ====================\n",
            "    sepal length:   4.3  7.9   5.84   0.83    0.7826\n",
            "    sepal width:    2.0  4.4   3.05   0.43   -0.4194\n",
            "    petal length:   1.0  6.9   3.76   1.76    0.9490  (high!)\n",
            "    petal width:    0.1  2.5   1.20   0.76    0.9565  (high!)\n",
            "    ============== ==== ==== ======= ===== ====================\n",
            "\n",
            "    :Missing Attribute Values: None\n",
            "    :Class Distribution: 33.3% for each of 3 classes.\n",
            "    :Creator: R.A. Fisher\n",
            "    :Donor: Michael Marshall (MARSHALL%PLU@io.arc.nasa.gov)\n",
            "    :Date: July, 1988\n",
            "\n",
            "The famous Iris database, first used by Sir R.A. Fisher. The dataset is taken\n",
            "from Fisher's paper. Note that it's the same as in R, but not as in the UCI\n",
            "Machine Learning Repository, which has two wrong data points.\n",
            "\n",
            "This is perhaps the best known database to be found in the\n",
            "pattern recognition literature.  Fisher's paper is a classic in the field and\n",
            "is referenced frequently to this day.  (See Duda & Hart, for example.)  The\n",
            "data set contains 3 classes of 50 instances each, where each class refers to a\n",
            "type of iris plant.  One class is linearly separable from the other 2; the\n",
            "latter are NOT linearly separable from each other.\n",
            "\n",
            ".. topic:: References\n",
            "\n",
            "   - Fisher, R.A. \"The use of multiple measurements in taxonomic problems\"\n",
            "     Annual Eugenics, 7, Part II, 179-188 (1936); also in \"Contributions to\n",
            "     Mathematical Statistics\" (John Wiley, NY, 1950).\n",
            "   - Duda, R.O., & Hart, P.E. (1973) Pattern Classification and Scene Analysis.\n",
            "     (Q327.D83) John Wiley & Sons.  ISBN 0-471-22361-1.  See page 218.\n",
            "   - Dasarathy, B.V. (1980) \"Nosing Around the Neighborhood: A New System\n",
            "     Structure and Classification Rule for Recognition in Partially Exposed\n",
            "     Environments\".  IEEE Transactions on Pattern Analysis and Machine\n",
            "     Intelligence, Vol. PAMI-2, No. 1, 67-71.\n",
            "   - Gates, G.W. (1972) \"The Reduced Nearest Neighbor Rule\".  IEEE Transactions\n",
            "     on Information Theory, May 1972, 431-433.\n",
            "   - See also: 1988 MLC Proceedings, 54-64.  Cheeseman et al\"s AUTOCLASS II\n",
            "     conceptual clustering system finds 3 classes in the data.\n",
            "   - Many, many more ...\n"
          ],
          "name": "stdout"
        }
      ]
    },
    {
      "cell_type": "code",
      "metadata": {
        "id": "7pEE7kyWS-cj",
        "colab_type": "code",
        "outputId": "cc0b7143-c766-4a65-d992-9f99754c63b1",
        "colab": {
          "base_uri": "https://localhost:8080/",
          "height": 206
        }
      },
      "source": [
        "# Create a dataframe with the four feature variables\n",
        "df = pd.DataFrame(iris.data, columns=iris.feature_names)\n",
        "\n",
        "# Add a new column with the species names, this is what we are going to try to predict\n",
        "df['species'] = pd.Categorical.from_codes(iris.target, iris.target_names)\n",
        "\n",
        "# View the top 5 rows\n",
        "df.head()"
      ],
      "execution_count": 10,
      "outputs": [
        {
          "output_type": "execute_result",
          "data": {
            "text/html": [
              "<div>\n",
              "<style scoped>\n",
              "    .dataframe tbody tr th:only-of-type {\n",
              "        vertical-align: middle;\n",
              "    }\n",
              "\n",
              "    .dataframe tbody tr th {\n",
              "        vertical-align: top;\n",
              "    }\n",
              "\n",
              "    .dataframe thead th {\n",
              "        text-align: right;\n",
              "    }\n",
              "</style>\n",
              "<table border=\"1\" class=\"dataframe\">\n",
              "  <thead>\n",
              "    <tr style=\"text-align: right;\">\n",
              "      <th></th>\n",
              "      <th>sepal length (cm)</th>\n",
              "      <th>sepal width (cm)</th>\n",
              "      <th>petal length (cm)</th>\n",
              "      <th>petal width (cm)</th>\n",
              "      <th>species</th>\n",
              "    </tr>\n",
              "  </thead>\n",
              "  <tbody>\n",
              "    <tr>\n",
              "      <th>0</th>\n",
              "      <td>5.1</td>\n",
              "      <td>3.5</td>\n",
              "      <td>1.4</td>\n",
              "      <td>0.2</td>\n",
              "      <td>setosa</td>\n",
              "    </tr>\n",
              "    <tr>\n",
              "      <th>1</th>\n",
              "      <td>4.9</td>\n",
              "      <td>3.0</td>\n",
              "      <td>1.4</td>\n",
              "      <td>0.2</td>\n",
              "      <td>setosa</td>\n",
              "    </tr>\n",
              "    <tr>\n",
              "      <th>2</th>\n",
              "      <td>4.7</td>\n",
              "      <td>3.2</td>\n",
              "      <td>1.3</td>\n",
              "      <td>0.2</td>\n",
              "      <td>setosa</td>\n",
              "    </tr>\n",
              "    <tr>\n",
              "      <th>3</th>\n",
              "      <td>4.6</td>\n",
              "      <td>3.1</td>\n",
              "      <td>1.5</td>\n",
              "      <td>0.2</td>\n",
              "      <td>setosa</td>\n",
              "    </tr>\n",
              "    <tr>\n",
              "      <th>4</th>\n",
              "      <td>5.0</td>\n",
              "      <td>3.6</td>\n",
              "      <td>1.4</td>\n",
              "      <td>0.2</td>\n",
              "      <td>setosa</td>\n",
              "    </tr>\n",
              "  </tbody>\n",
              "</table>\n",
              "</div>"
            ],
            "text/plain": [
              "   sepal length (cm)  sepal width (cm)  ...  petal width (cm)  species\n",
              "0                5.1               3.5  ...               0.2   setosa\n",
              "1                4.9               3.0  ...               0.2   setosa\n",
              "2                4.7               3.2  ...               0.2   setosa\n",
              "3                4.6               3.1  ...               0.2   setosa\n",
              "4                5.0               3.6  ...               0.2   setosa\n",
              "\n",
              "[5 rows x 5 columns]"
            ]
          },
          "metadata": {
            "tags": []
          },
          "execution_count": 10
        }
      ]
    },
    {
      "cell_type": "code",
      "metadata": {
        "colab_type": "code",
        "id": "2XWt0TOLkjjF",
        "outputId": "bb4e2fbb-066d-45b9-872d-cf582e8541a3",
        "colab": {
          "base_uri": "https://localhost:8080/",
          "height": 52
        }
      },
      "source": [
        "n_samples, n_features = iris.data.shape\n",
        "print((n_samples, n_features))\n",
        "print(iris.data[0])"
      ],
      "execution_count": 11,
      "outputs": [
        {
          "output_type": "stream",
          "text": [
            "(150, 4)\n",
            "[5.1 3.5 1.4 0.2]\n"
          ],
          "name": "stdout"
        }
      ]
    },
    {
      "cell_type": "code",
      "metadata": {
        "colab_type": "code",
        "id": "bnqA-fHVkjjJ",
        "outputId": "b75ae3c4-d324-4279-e5a5-283875619f04",
        "colab": {
          "base_uri": "https://localhost:8080/",
          "height": 52
        }
      },
      "source": [
        "print(iris.data.shape)\n",
        "print(iris.target.shape)"
      ],
      "execution_count": 12,
      "outputs": [
        {
          "output_type": "stream",
          "text": [
            "(150, 4)\n",
            "(150,)\n"
          ],
          "name": "stdout"
        }
      ]
    },
    {
      "cell_type": "code",
      "metadata": {
        "colab_type": "code",
        "id": "5MIG2ksFkjjL",
        "outputId": "11cd9a54-4055-4e98-80db-f306d53a9ff0",
        "colab": {
          "base_uri": "https://localhost:8080/",
          "height": 104
        }
      },
      "source": [
        "print(iris.target)"
      ],
      "execution_count": 13,
      "outputs": [
        {
          "output_type": "stream",
          "text": [
            "[0 0 0 0 0 0 0 0 0 0 0 0 0 0 0 0 0 0 0 0 0 0 0 0 0 0 0 0 0 0 0 0 0 0 0 0 0\n",
            " 0 0 0 0 0 0 0 0 0 0 0 0 0 1 1 1 1 1 1 1 1 1 1 1 1 1 1 1 1 1 1 1 1 1 1 1 1\n",
            " 1 1 1 1 1 1 1 1 1 1 1 1 1 1 1 1 1 1 1 1 1 1 1 1 1 1 2 2 2 2 2 2 2 2 2 2 2\n",
            " 2 2 2 2 2 2 2 2 2 2 2 2 2 2 2 2 2 2 2 2 2 2 2 2 2 2 2 2 2 2 2 2 2 2 2 2 2\n",
            " 2 2]\n"
          ],
          "name": "stdout"
        }
      ]
    },
    {
      "cell_type": "code",
      "metadata": {
        "colab_type": "code",
        "id": "3UmPdufDkjjO",
        "outputId": "24adde1f-d43e-4b8d-f1f8-01811a40e1f6",
        "colab": {
          "base_uri": "https://localhost:8080/",
          "height": 34
        }
      },
      "source": [
        "print(iris.target_names)"
      ],
      "execution_count": 14,
      "outputs": [
        {
          "output_type": "stream",
          "text": [
            "['setosa' 'versicolor' 'virginica']\n"
          ],
          "name": "stdout"
        }
      ]
    },
    {
      "cell_type": "markdown",
      "metadata": {
        "colab_type": "text",
        "id": "uSvEc2ibkjjS"
      },
      "source": [
        "This data is four dimensional, but we can visualize two of the dimensions\n",
        "at a time using a simple scatterplot:"
      ]
    },
    {
      "cell_type": "code",
      "metadata": {
        "colab_type": "code",
        "id": "_hnWDgLJkjjT",
        "outputId": "32a6028f-2444-4be6-bd21-e92a4cdb1f08",
        "colab": {
          "base_uri": "https://localhost:8080/",
          "height": 361
        }
      },
      "source": [
        "import numpy as np\n",
        "import matplotlib.pyplot as plt\n",
        "\n",
        "x_index = 0\n",
        "y_index = 1\n",
        "\n",
        "# this formatter will label the colorbar with the correct target names\n",
        "formatter = plt.FuncFormatter(lambda i, *args: iris.target_names[int(i)])\n",
        "\n",
        "plt.scatter(iris.data[:, x_index], iris.data[:, y_index],\n",
        "            c=iris.target, cmap=plt.cm.get_cmap('RdYlBu', 3))\n",
        "plt.colorbar(ticks=[0, 1, 2], format=formatter)\n",
        "plt.clim(-0.5, 2.5)\n",
        "plt.xlabel(iris.feature_names[x_index])\n",
        "plt.ylabel(iris.feature_names[y_index]);"
      ],
      "execution_count": 15,
      "outputs": [
        {
          "output_type": "display_data",
          "data": {
            "image/png": "[encoded data removed]",
            "text/plain": [
              "<Figure size 576x396 with 2 Axes>"
            ]
          },
          "metadata": {
            "tags": []
          }
        }
      ]
    },
    {
      "cell_type": "markdown",
      "metadata": {
        "colab_type": "text",
        "id": "Z50D1jsJkjjV"
      },
      "source": [
        "### Quick Exercise:\n",
        "\n",
        "**Change** `x_index` **and** `y_index` **in the above script\n",
        "and find a combination of two parameters\n",
        "which maximally separates the three classes.**\n",
        "\n",
        "This exercise is a preview of **dimensionality reduction**, which we'll see later."
      ]
    },
    {
      "cell_type": "markdown",
      "metadata": {
        "id": "O-_CHR_9S-c6",
        "colab_type": "text"
      },
      "source": [
        "## Get started with classification"
      ]
    },
    {
      "cell_type": "markdown",
      "metadata": {
        "id": "OHZqlBRvS-c6",
        "colab_type": "text"
      },
      "source": [
        "### Supervised Learning: Classification and Regression\n",
        "\n",
        "In **Supervised Learning**, we have a dataset consisting of both features and labels.\n",
        "The task is to construct an estimator which is able to predict the label of an object\n",
        "given the set of features. A relatively simple example is predicting the species of \n",
        "iris given a set of measurements of its flower. Here are some more complicated examples:\n",
        "\n",
        "- given a multicolor image of an object, determine whether that object is a star, a quasar, or a galaxy\n",
        "- given a photograph of a person, identify the person in the photo.\n",
        "- given a list of movies a person has watched and their personal rating\n",
        "  of the movie, recommend a list of movies they would like\n",
        "  (So-called *recommender systems*: a famous example is the [Netflix Prize](http://en.wikipedia.org/wiki/Netflix_prize)).\n",
        "\n",
        "What these tasks have in common is that there is one or more unknown\n",
        "quantities associated with the object which needs to be determined from other\n",
        "observed quantities.\n",
        "\n",
        "Supervised learning is further broken down into two categories, **classification** and **regression**.\n",
        "In classification, the label is discrete, while in regression, the label is continuous. For example,\n",
        "in astronomy, the task of determining whether an object is a star, a galaxy, or a quasar is a\n",
        "classification problem: the label is from three distinct categories. On the other hand, we might\n",
        "wish to estimate the age of an object based on such observations: this would be a regression problem,\n",
        "because the label (age) is a continuous quantity."
      ]
    },
    {
      "cell_type": "markdown",
      "metadata": {
        "id": "foD_oI8iS-c7",
        "colab_type": "text"
      },
      "source": [
        "#### Classification Example\n",
        "*K* nearest neighbors (kNN) is one of the simplest learning strategies: given a new, unknown observation, look up in your reference database which ones have the closest features and assign the predominant class.\n",
        "\n",
        "Let's try it out on our iris classification problem:"
      ]
    },
    {
      "cell_type": "code",
      "metadata": {
        "id": "zzIH8UXuS-c7",
        "colab_type": "code",
        "colab": {}
      },
      "source": [
        "from sklearn import neighbors, datasets\n",
        "\n",
        "# load our data\n",
        "iris = datasets.load_iris()"
      ],
      "execution_count": 0,
      "outputs": []
    },
    {
      "cell_type": "code",
      "metadata": {
        "id": "G_cXo8RyS-c8",
        "colab_type": "code",
        "colab": {}
      },
      "source": [
        "# create a features matrix and target array\n",
        "X, y = iris.data, iris.target"
      ],
      "execution_count": 0,
      "outputs": []
    },
    {
      "cell_type": "code",
      "metadata": {
        "id": "w8w3CzWpS-c8",
        "colab_type": "code",
        "colab": {}
      },
      "source": [
        "# instantiate the model\n",
        "knn = neighbors.KNeighborsClassifier(n_neighbors=5)"
      ],
      "execution_count": 0,
      "outputs": []
    },
    {
      "cell_type": "code",
      "metadata": {
        "id": "IP901gbcS-c-",
        "colab_type": "code",
        "outputId": "490c2855-2ebb-464a-8ff3-8be04d1dfdaa",
        "colab": {
          "base_uri": "https://localhost:8080/",
          "height": 69
        }
      },
      "source": [
        "# fit the model\n",
        "knn.fit(X, y)"
      ],
      "execution_count": 19,
      "outputs": [
        {
          "output_type": "execute_result",
          "data": {
            "text/plain": [
              "KNeighborsClassifier(algorithm='auto', leaf_size=30, metric='minkowski',\n",
              "                     metric_params=None, n_jobs=None, n_neighbors=5, p=2,\n",
              "                     weights='uniform')"
            ]
          },
          "metadata": {
            "tags": []
          },
          "execution_count": 19
        }
      ]
    },
    {
      "cell_type": "code",
      "metadata": {
        "id": "CkDvDOEeS-dJ",
        "colab_type": "code",
        "colab": {}
      },
      "source": [
        "# What kind of iris has 3cm x 5cm sepal and 4cm x 2cm petal?\n",
        "# call the \"predict\" method:\n",
        "\n",
        "sample_data = [[3, 5, 4, 2],]\n",
        "\n",
        "result = knn.predict(sample_data)"
      ],
      "execution_count": 0,
      "outputs": []
    },
    {
      "cell_type": "code",
      "metadata": {
        "id": "fCKjAHbVS-dK",
        "colab_type": "code",
        "outputId": "6e70a135-5365-4041-cacc-3e7fc43bd17c",
        "colab": {
          "base_uri": "https://localhost:8080/",
          "height": 34
        }
      },
      "source": [
        "# print the predicted label\n",
        "\n",
        "print(iris.target_names[result])"
      ],
      "execution_count": 21,
      "outputs": [
        {
          "output_type": "stream",
          "text": [
            "['versicolor']\n"
          ],
          "name": "stdout"
        }
      ]
    },
    {
      "cell_type": "code",
      "metadata": {
        "id": "BrpeP3y4S-dL",
        "colab_type": "code",
        "outputId": "2485e479-3320-4d18-d78f-214ddcca4fc1",
        "colab": {
          "base_uri": "https://localhost:8080/",
          "height": 34
        }
      },
      "source": [
        "knn.predict_proba([[3, 5, 4, 2],])"
      ],
      "execution_count": 22,
      "outputs": [
        {
          "output_type": "execute_result",
          "data": {
            "text/plain": [
              "array([[0. , 0.8, 0.2]])"
            ]
          },
          "metadata": {
            "tags": []
          },
          "execution_count": 22
        }
      ]
    },
    {
      "cell_type": "markdown",
      "metadata": {
        "id": "nQXpUiVjS-dM",
        "colab_type": "text"
      },
      "source": [
        "### 1. Your turn: try a new estimator!\n",
        "\n",
        "Use a different estimator on the same problem: ``sklearn.svm.SVC``."
      ]
    },
    {
      "cell_type": "code",
      "metadata": {
        "id": "tBfqcN25S-dM",
        "colab_type": "code",
        "colab": {}
      },
      "source": [
        "from sklearn.svm import SVC"
      ],
      "execution_count": 0,
      "outputs": []
    },
    {
      "cell_type": "code",
      "metadata": {
        "id": "DWSwV2mfS-dN",
        "colab_type": "code",
        "colab": {}
      },
      "source": [
        "# load our data again\n",
        "iris = datasets.load_iris()\n",
        "\n",
        "# create feature matrix and target array\n",
        "X, y = iris.data, iris.target"
      ],
      "execution_count": 0,
      "outputs": []
    },
    {
      "cell_type": "code",
      "metadata": {
        "id": "5qJtHKrTS-dN",
        "colab_type": "code",
        "colab": {}
      },
      "source": [
        "svc = SVC(probability=True)"
      ],
      "execution_count": 0,
      "outputs": []
    },
    {
      "cell_type": "code",
      "metadata": {
        "id": "HRBG9WmoS-dO",
        "colab_type": "code",
        "outputId": "bacfe5d8-db4f-454a-ff69-0a8a48bfe145",
        "colab": {
          "base_uri": "https://localhost:8080/",
          "height": 141
        }
      },
      "source": [
        "# fit the model on your data\n",
        "svc.fit(X,y)"
      ],
      "execution_count": 26,
      "outputs": [
        {
          "output_type": "stream",
          "text": [
            "/usr/local/lib/python3.6/dist-packages/sklearn/svm/base.py:193: FutureWarning: The default value of gamma will change from 'auto' to 'scale' in version 0.22 to account better for unscaled features. Set gamma explicitly to 'auto' or 'scale' to avoid this warning.\n",
            "  \"avoid this warning.\", FutureWarning)\n"
          ],
          "name": "stderr"
        },
        {
          "output_type": "execute_result",
          "data": {
            "text/plain": [
              "SVC(C=1.0, cache_size=200, class_weight=None, coef0=0.0,\n",
              "    decision_function_shape='ovr', degree=3, gamma='auto_deprecated',\n",
              "    kernel='rbf', max_iter=-1, probability=True, random_state=None,\n",
              "    shrinking=True, tol=0.001, verbose=False)"
            ]
          },
          "metadata": {
            "tags": []
          },
          "execution_count": 26
        }
      ]
    },
    {
      "cell_type": "code",
      "metadata": {
        "id": "Cv46TP7xS-dP",
        "colab_type": "code",
        "colab": {}
      },
      "source": [
        "sample_two = [[1, 1, 1, 1],]"
      ],
      "execution_count": 0,
      "outputs": []
    },
    {
      "cell_type": "code",
      "metadata": {
        "id": "Y-irbxuDS-dQ",
        "colab_type": "code",
        "colab": {}
      },
      "source": [
        "# generate a prediction and assign the output to\n",
        "# prediction_two\n",
        "prediction_two = svc.predict(sample_two)"
      ],
      "execution_count": 0,
      "outputs": []
    },
    {
      "cell_type": "code",
      "metadata": {
        "id": "4ikdN_ctS-dQ",
        "colab_type": "code",
        "outputId": "6d146720-9354-4556-e9dc-de5896201ad4",
        "colab": {
          "base_uri": "https://localhost:8080/",
          "height": 52
        }
      },
      "source": [
        "# print the label for prediction_two\n",
        "print(prediction_two)\n",
        "print(iris.target_names[prediction_two])"
      ],
      "execution_count": 29,
      "outputs": [
        {
          "output_type": "stream",
          "text": [
            "[2]\n",
            "['virginica']\n"
          ],
          "name": "stdout"
        }
      ]
    },
    {
      "cell_type": "code",
      "metadata": {
        "id": "l_qcEbkCS-dR",
        "colab_type": "code",
        "outputId": "2f23ba86-cea9-4146-9c77-750953b3c8d0",
        "colab": {
          "base_uri": "https://localhost:8080/",
          "height": 34
        }
      },
      "source": [
        "# predict probabilities\n",
        "# note for this you will use sample_two\n",
        "svc.predict_proba(sample_two)"
      ],
      "execution_count": 30,
      "outputs": [
        {
          "output_type": "execute_result",
          "data": {
            "text/plain": [
              "array([[0.25881642, 0.29085489, 0.45032868]])"
            ]
          },
          "metadata": {
            "tags": []
          },
          "execution_count": 30
        }
      ]
    },
    {
      "cell_type": "markdown",
      "metadata": {
        "id": "XpSXzxFIS-dS",
        "colab_type": "text"
      },
      "source": [
        "### Recap: `Scikit-learn`'s estimator interface\n",
        "\n",
        "The `Scikit-learn` developers have tried to maintain a uniform user interface across all methods. We'll see examples of these below. Given a `scikit-learn` *estimator*\n",
        "object named `model`, the following methods are available:\n",
        "\n",
        "- Available in **all Estimators**\n",
        "  + `model.fit()` : fit training data. For supervised learning applications,\n",
        "    this accepts two arguments: the data `X` and the labels `y` (e.g. `model.fit(X, y)`).\n",
        "    For unsupervised learning applications, this accepts only a single argument,\n",
        "    the data `X` (e.g. `model.fit(X)`).\n",
        "- Available in **supervised estimators**\n",
        "  + `model.predict()` : given a trained model, predict the label of a new set of data.\n",
        "    This method accepts one argument, the new data `X_new` (e.g. `model.predict(X_new)`),\n",
        "    and returns the learned label for each object in the array.\n",
        "  + `model.predict_proba()` : For classification problems, some estimators also provide\n",
        "    this method, which returns the probability that a new observation has each categorical label.\n",
        "    In this case, the label with the highest probability is returned by `model.predict()`.\n",
        "  + `model.score()` : for classification or regression problems, most (all?) estimators implement\n",
        "    a score method.  Scores are between 0 and 1, with a larger score indicating a better fit.\n",
        "- Available in **unsupervised estimators**\n",
        "  + `model.predict()` : predict labels in clustering algorithms.\n",
        "  + `model.transform()` : given an unsupervised model, transform new data into the new basis.\n",
        "    This also accepts one argument `X_new`, and returns the new representation of the data based\n",
        "    on the unsupervised model.\n",
        "  + `model.fit_transform()` : some estimators implement this method,\n",
        "    which more efficiently performs a fit and a transform on the same input data."
      ]
    },
    {
      "cell_type": "markdown",
      "metadata": {
        "id": "fUd4GvEjS-dS",
        "colab_type": "text"
      },
      "source": [
        "## Model Validation\n",
        "\n",
        "An important piece of machine learning is **model validation**: that is, determining how well your model will generalize from the training data to future unlabeled data. Let's look at an example using the *nearest neighbor classifier*. This is a very simple classifier: it simply stores all training data, and for any unknown quantity, simply returns the label of the closest training point.\n",
        "\n",
        "With the iris data, it very easily returns the correct prediction for each of the input points:"
      ]
    },
    {
      "cell_type": "code",
      "metadata": {
        "id": "Yy2mJGjHS-dS",
        "colab_type": "code",
        "outputId": "fa2feeda-31fa-4b13-c1d7-7eb988585d7b",
        "colab": {
          "base_uri": "https://localhost:8080/",
          "height": 34
        }
      },
      "source": [
        "from sklearn.neighbors import KNeighborsClassifier\n",
        "X, y = iris.data, iris.target\n",
        "clf = KNeighborsClassifier(n_neighbors=1)\n",
        "clf.fit(X, y)\n",
        "y_pred = clf.predict(X)\n",
        "print(np.all(y == y_pred))"
      ],
      "execution_count": 31,
      "outputs": [
        {
          "output_type": "stream",
          "text": [
            "True\n"
          ],
          "name": "stdout"
        }
      ]
    },
    {
      "cell_type": "markdown",
      "metadata": {
        "id": "22gJ2As_S-dT",
        "colab_type": "text"
      },
      "source": [
        "A more useful way to look at the results is to view the **confusion matrix**, or the matrix showing the frequency of inputs and outputs:"
      ]
    },
    {
      "cell_type": "code",
      "metadata": {
        "id": "T1QXC5bOS-dT",
        "colab_type": "code",
        "outputId": "2b0ae2e0-93ac-406b-862c-3fded3aed693",
        "colab": {
          "base_uri": "https://localhost:8080/",
          "height": 69
        }
      },
      "source": [
        "from sklearn.metrics import confusion_matrix\n",
        "print(confusion_matrix(y, y_pred))"
      ],
      "execution_count": 32,
      "outputs": [
        {
          "output_type": "stream",
          "text": [
            "[[50  0  0]\n",
            " [ 0 50  0]\n",
            " [ 0  0 50]]\n"
          ],
          "name": "stdout"
        }
      ]
    },
    {
      "cell_type": "markdown",
      "metadata": {
        "id": "Z5PY6eRsS-dU",
        "colab_type": "text"
      },
      "source": [
        "For each class, all 50 training samples are correctly identified. But this **does not mean that our model is perfect!** In particular, such a model generalizes extremely poorly to new data. We can simulate this by splitting our data into a *training set* and a *testing set*. `scikit-learn` contains some convenient routines to do this:"
      ]
    },
    {
      "cell_type": "code",
      "metadata": {
        "id": "_fd2O4-vS-dU",
        "colab_type": "code",
        "outputId": "828a136f-4fdd-442e-f35c-932ef5809ad7",
        "colab": {
          "base_uri": "https://localhost:8080/",
          "height": 86
        }
      },
      "source": [
        "from sklearn.model_selection import train_test_split\n",
        "Xtrain, Xtest, ytrain, ytest = train_test_split(X, y)\n",
        "\n",
        "# Let's take a look\n",
        "print(Xtrain.shape)\n",
        "print(Xtest.shape)\n",
        "print(ytrain.shape)\n",
        "print(ytest.shape)\n"
      ],
      "execution_count": 33,
      "outputs": [
        {
          "output_type": "stream",
          "text": [
            "(112, 4)\n",
            "(38, 4)\n",
            "(112,)\n",
            "(38,)\n"
          ],
          "name": "stdout"
        }
      ]
    },
    {
      "cell_type": "code",
      "metadata": {
        "id": "hGsThmuNS-dV",
        "colab_type": "code",
        "outputId": "8707bd49-5721-42b1-a64e-3aeec06013d5",
        "colab": {
          "base_uri": "https://localhost:8080/",
          "height": 69
        }
      },
      "source": [
        "\n",
        "clf.fit(Xtrain, ytrain)\n",
        "ypred = clf.predict(Xtest)\n",
        "print(confusion_matrix(ytest, ypred))"
      ],
      "execution_count": 34,
      "outputs": [
        {
          "output_type": "stream",
          "text": [
            "[[13  0  0]\n",
            " [ 0 13  0]\n",
            " [ 0  1 11]]\n"
          ],
          "name": "stdout"
        }
      ]
    },
    {
      "cell_type": "markdown",
      "metadata": {
        "id": "H2ArG_PiS-dW",
        "colab_type": "text"
      },
      "source": [
        "## Your turn: "
      ]
    },
    {
      "cell_type": "markdown",
      "metadata": {
        "id": "oDrilAHyS-dW",
        "colab_type": "text"
      },
      "source": [
        "### Option One: Run classification on the `iris` dataset using a random forest classifier AND a test-train split"
      ]
    },
    {
      "cell_type": "markdown",
      "metadata": {
        "id": "0ip83610S-dW",
        "colab_type": "text"
      },
      "source": [
        "#### 0) Import your data (and take a look at shape + metadata, for your reference!)"
      ]
    },
    {
      "cell_type": "code",
      "metadata": {
        "id": "fZZCXGs1S-dW",
        "colab_type": "code",
        "colab": {}
      },
      "source": [
        "# load our data again\n",
        "iris = datasets.load_iris()\n",
        "\n",
        "# create feature matrix and target array\n",
        "X, y = iris.data, iris.target"
      ],
      "execution_count": 0,
      "outputs": []
    },
    {
      "cell_type": "markdown",
      "metadata": {
        "id": "aWzxKb3TS-dg",
        "colab_type": "text"
      },
      "source": [
        "#### 1) Set train and test splits"
      ]
    },
    {
      "cell_type": "code",
      "metadata": {
        "id": "54ndRzu4S-dg",
        "colab_type": "code",
        "colab": {}
      },
      "source": [
        "Xtrain, Xtest, ytrain, ytest = train_test_split(X, y)"
      ],
      "execution_count": 0,
      "outputs": []
    },
    {
      "cell_type": "markdown",
      "metadata": {
        "id": "9vJdOdZiS-dh",
        "colab_type": "text"
      },
      "source": [
        "#### 2) Instantiate your model as an object (and, optionally, set any parameters)"
      ]
    },
    {
      "cell_type": "code",
      "metadata": {
        "id": "4GFJdLOvS-dh",
        "colab_type": "code",
        "colab": {}
      },
      "source": [
        "from sklearn.ensemble import RandomForestClassifier\n",
        "\n",
        "rf = RandomForestClassifier()\n"
      ],
      "execution_count": 0,
      "outputs": []
    },
    {
      "cell_type": "markdown",
      "metadata": {
        "id": "YCiETvT2S-di",
        "colab_type": "text"
      },
      "source": [
        "#### 3) Fit your model"
      ]
    },
    {
      "cell_type": "code",
      "metadata": {
        "id": "FwCkjmDIS-di",
        "colab_type": "code",
        "colab": {
          "base_uri": "https://localhost:8080/",
          "height": 193
        },
        "outputId": "a5d21f4d-61ea-4988-f8b9-f5b631bbb06a"
      },
      "source": [
        "rf.fit(X, y)"
      ],
      "execution_count": 43,
      "outputs": [
        {
          "output_type": "stream",
          "text": [
            "/usr/local/lib/python3.6/dist-packages/sklearn/ensemble/forest.py:245: FutureWarning: The default value of n_estimators will change from 10 in version 0.20 to 100 in 0.22.\n",
            "  \"10 in version 0.20 to 100 in 0.22.\", FutureWarning)\n"
          ],
          "name": "stderr"
        },
        {
          "output_type": "execute_result",
          "data": {
            "text/plain": [
              "RandomForestClassifier(bootstrap=True, class_weight=None, criterion='gini',\n",
              "                       max_depth=None, max_features='auto', max_leaf_nodes=None,\n",
              "                       min_impurity_decrease=0.0, min_impurity_split=None,\n",
              "                       min_samples_leaf=1, min_samples_split=2,\n",
              "                       min_weight_fraction_leaf=0.0, n_estimators=10,\n",
              "                       n_jobs=None, oob_score=False, random_state=None,\n",
              "                       verbose=0, warm_start=False)"
            ]
          },
          "metadata": {
            "tags": []
          },
          "execution_count": 43
        }
      ]
    },
    {
      "cell_type": "markdown",
      "metadata": {
        "id": "D57sTVm5S-dj",
        "colab_type": "text"
      },
      "source": [
        "#### 4) Apply your model (make predictions)"
      ]
    },
    {
      "cell_type": "code",
      "metadata": {
        "id": "5DTaf9UaS-dj",
        "colab_type": "code",
        "colab": {}
      },
      "source": [
        "new_sample = [[1, 1, 1, 1], ]"
      ],
      "execution_count": 0,
      "outputs": []
    },
    {
      "cell_type": "markdown",
      "metadata": {
        "id": "OYCXuWE9S-dm",
        "colab_type": "text"
      },
      "source": [
        "#### 5) Validate on test data (and, for your reference, compare to performance on training data)"
      ]
    },
    {
      "cell_type": "code",
      "metadata": {
        "id": "LEHsTdQlS-dn",
        "colab_type": "code",
        "colab": {
          "base_uri": "https://localhost:8080/",
          "height": 166
        },
        "outputId": "3dff6a42-c66b-43f2-d4c3-b865b0448ede"
      },
      "source": [
        "# score on train\n",
        "svm.score(X_train, y_train)"
      ],
      "execution_count": 45,
      "outputs": [
        {
          "output_type": "error",
          "ename": "NameError",
          "evalue": "ignored",
          "traceback": [
            "\u001b[0;31m---------------------------------------------------------------------------\u001b[0m",
            "\u001b[0;31mNameError\u001b[0m                                 Traceback (most recent call last)",
            "\u001b[0;32m<ipython-input-45-c5d800334522>\u001b[0m in \u001b[0;36m<module>\u001b[0;34m()\u001b[0m\n\u001b[0;32m----> 1\u001b[0;31m \u001b[0msvm\u001b[0m\u001b[0;34m.\u001b[0m\u001b[0mscore\u001b[0m\u001b[0;34m(\u001b[0m\u001b[0mX_train\u001b[0m\u001b[0;34m,\u001b[0m \u001b[0my_train\u001b[0m\u001b[0;34m)\u001b[0m\u001b[0;34m\u001b[0m\u001b[0;34m\u001b[0m\u001b[0m\n\u001b[0m",
            "\u001b[0;31mNameError\u001b[0m: name 'svm' is not defined"
          ]
        }
      ]
    },
    {
      "cell_type": "code",
      "metadata": {
        "id": "hK0rrvD5S-do",
        "colab_type": "code",
        "colab": {}
      },
      "source": [
        "# score on test"
      ],
      "execution_count": 0,
      "outputs": []
    },
    {
      "cell_type": "markdown",
      "metadata": {
        "id": "82SnUVunS-do",
        "colab_type": "text"
      },
      "source": [
        "### Option Two: Try classification with a new dataset: blood donation"
      ]
    },
    {
      "cell_type": "markdown",
      "metadata": {
        "id": "o2U4IUx-S-dp",
        "colab_type": "text"
      },
      "source": [
        "For this example, we are going to use a new datase from **openml** "
      ]
    },
    {
      "cell_type": "markdown",
      "metadata": {
        "id": "XLwNDn69S-dp",
        "colab_type": "text"
      },
      "source": [
        "#### 0) Import your data (and take a look at shape + metadata, for your reference!)"
      ]
    },
    {
      "cell_type": "code",
      "metadata": {
        "id": "V_DRrpOLS-dp",
        "colab_type": "code",
        "colab": {}
      },
      "source": [
        "from sklearn.datasets import fetch_openml\n",
        "from sklearn.model_selection import train_test_split\n",
        "blood = fetch_openml('blood-transfusion-service-center')"
      ],
      "execution_count": 0,
      "outputs": []
    },
    {
      "cell_type": "code",
      "metadata": {
        "id": "GkLuosOqS-dq",
        "colab_type": "code",
        "outputId": "e1052c45-f124-4a0c-9b99-2b1ecd2492dc",
        "colab": {}
      },
      "source": [
        "print(blood.DESCR)"
      ],
      "execution_count": 0,
      "outputs": [
        {
          "output_type": "stream",
          "text": [
            "**Author**: Prof. I-Cheng Yeh  \n",
            "**Source**: [UCI](https://archive.ics.uci.edu/ml/datasets/Blood+Transfusion+Service+Center)  \n",
            "**Please cite**: Yeh, I-Cheng, Yang, King-Jang, and Ting, Tao-Ming, \"Knowledge discovery on RFM model using Bernoulli sequence\", Expert Systems with Applications, 2008.   \n",
            "\n",
            "**Blood Transfusion Service Center Data Set**  \n",
            "Data taken from the Blood Transfusion Service Center in Hsin-Chu City in Taiwan -- this is a classification problem.\n",
            "\n",
            "To demonstrate the RFMTC marketing model (a modified version of RFM), this study adopted the donor database of Blood Transfusion Service Center in Hsin-Chu City in Taiwan. The center passes their blood transfusion service bus to one university in Hsin-Chu City to gather blood donated about every three months. To build an FRMTC model, we selected 748 donors at random from the donor database. \n",
            "\n",
            "### Attribute Information  \n",
            "* V1: Recency - months since last donation\n",
            "* V2: Frequency - total number of donation\n",
            "* V3: Monetary - total blood donated in c.c.\n",
            "* V4: Time - months since first donation), and a binary variable representing whether he/she donated blood in March 2007 (1 stand for donating blood; 0 stands for not donating blood).\n",
            "\n",
            "The target attribute is a binary variable representing whether he/she donated blood in March 2007 (2 stands for donating blood; 1 stands for not donating blood).\n",
            "\n",
            "Downloaded from openml.org.\n"
          ],
          "name": "stdout"
        }
      ]
    },
    {
      "cell_type": "code",
      "metadata": {
        "id": "gvlBYZTkS-dt",
        "colab_type": "code",
        "outputId": "693e86e8-c4bc-45c4-a12d-d599e004b5f5",
        "colab": {}
      },
      "source": [
        "X_train.shape"
      ],
      "execution_count": 0,
      "outputs": [
        {
          "output_type": "execute_result",
          "data": {
            "text/plain": [
              "(561, 4)"
            ]
          },
          "metadata": {
            "tags": []
          },
          "execution_count": 49
        }
      ]
    },
    {
      "cell_type": "code",
      "metadata": {
        "id": "ppwuK2FIS-dt",
        "colab_type": "code",
        "outputId": "36526605-ae80-4b45-eacb-dc943912f52c",
        "colab": {}
      },
      "source": [
        "pd.Series(y_train).value_counts()"
      ],
      "execution_count": 0,
      "outputs": [
        {
          "output_type": "execute_result",
          "data": {
            "text/plain": [
              "1    438\n",
              "2    123\n",
              "dtype: int64"
            ]
          },
          "metadata": {
            "tags": []
          },
          "execution_count": 50
        }
      ]
    },
    {
      "cell_type": "markdown",
      "metadata": {
        "id": "f5oRL9CSS-du",
        "colab_type": "text"
      },
      "source": [
        "#### 1) Set train and test splits"
      ]
    },
    {
      "cell_type": "code",
      "metadata": {
        "id": "4Xf3QSf7S-du",
        "colab_type": "code",
        "colab": {}
      },
      "source": [
        "## train and test splits"
      ],
      "execution_count": 0,
      "outputs": []
    },
    {
      "cell_type": "markdown",
      "metadata": {
        "id": "75WKEwsDS-dv",
        "colab_type": "text"
      },
      "source": [
        "#### 2) Instantiate your model as an object (and, optionally, set any parameters)"
      ]
    },
    {
      "cell_type": "code",
      "metadata": {
        "id": "uPAM6jndS-dv",
        "colab_type": "code",
        "colab": {}
      },
      "source": [
        "# MODEL OF YOUR CHOICE!\n",
        "# One option: LinearSVC\n",
        "\n",
        "from sklearn.svm import LinearSVC"
      ],
      "execution_count": 0,
      "outputs": []
    },
    {
      "cell_type": "code",
      "metadata": {
        "scrolled": true,
        "id": "TKZMq3-tS-dw",
        "colab_type": "code",
        "colab": {}
      },
      "source": [
        ""
      ],
      "execution_count": 0,
      "outputs": []
    },
    {
      "cell_type": "markdown",
      "metadata": {
        "id": "vl_r76akS-dw",
        "colab_type": "text"
      },
      "source": [
        "#### 3) Fit your model"
      ]
    },
    {
      "cell_type": "code",
      "metadata": {
        "id": "ZcGlNB5FS-dw",
        "colab_type": "code",
        "outputId": "ce9614fc-c10d-4f34-8a3e-6a9f1071aefa",
        "colab": {}
      },
      "source": [
        ""
      ],
      "execution_count": 0,
      "outputs": [
        {
          "output_type": "stream",
          "text": [
            "//anaconda3/lib/python3.7/site-packages/sklearn/svm/base.py:929: ConvergenceWarning: Liblinear failed to converge, increase the number of iterations.\n",
            "  \"the number of iterations.\", ConvergenceWarning)\n"
          ],
          "name": "stderr"
        },
        {
          "output_type": "execute_result",
          "data": {
            "text/plain": [
              "LinearSVC(C=1.0, class_weight=None, dual=True, fit_intercept=True,\n",
              "          intercept_scaling=1, loss='squared_hinge', max_iter=1000,\n",
              "          multi_class='ovr', penalty='l2', random_state=None, tol=0.0001,\n",
              "          verbose=0)"
            ]
          },
          "metadata": {
            "tags": []
          },
          "execution_count": 54
        }
      ]
    },
    {
      "cell_type": "markdown",
      "metadata": {
        "id": "9RvaknB5S-dy",
        "colab_type": "text"
      },
      "source": [
        "#### 4) Apply your model (make predictions)"
      ]
    },
    {
      "cell_type": "code",
      "metadata": {
        "id": "sL3Zaxs7S-dy",
        "colab_type": "code",
        "outputId": "c182913b-22df-40b9-fb0d-a687b95b792d",
        "colab": {}
      },
      "source": [
        "## Your code here\n",
        "\n"
      ],
      "execution_count": 0,
      "outputs": [
        {
          "output_type": "error",
          "ename": "NameError",
          "evalue": "name 'svm' is not defined",
          "traceback": [
            "\u001b[0;31m---------------------------------------------------------------------------\u001b[0m",
            "\u001b[0;31mNameError\u001b[0m                                 Traceback (most recent call last)",
            "\u001b[0;32m<ipython-input-1-e7366228d891>\u001b[0m in \u001b[0;36m<module>\u001b[0;34m\u001b[0m\n\u001b[0;32m----> 1\u001b[0;31m \u001b[0my_predictions\u001b[0m \u001b[0;34m=\u001b[0m \u001b[0msvm\u001b[0m\u001b[0;34m.\u001b[0m\u001b[0mpredict\u001b[0m\u001b[0;34m(\u001b[0m\u001b[0mX_train\u001b[0m\u001b[0;34m)\u001b[0m\u001b[0;34m\u001b[0m\u001b[0;34m\u001b[0m\u001b[0m\n\u001b[0m\u001b[1;32m      2\u001b[0m \u001b[0;34m\u001b[0m\u001b[0m\n\u001b[1;32m      3\u001b[0m \u001b[0mprint\u001b[0m\u001b[0;34m(\u001b[0m\u001b[0my_predictions\u001b[0m\u001b[0;34m)\u001b[0m\u001b[0;34m\u001b[0m\u001b[0;34m\u001b[0m\u001b[0m\n\u001b[1;32m      4\u001b[0m \u001b[0;34m\u001b[0m\u001b[0m\n\u001b[1;32m      5\u001b[0m \u001b[0;31m# where are the actual (not predicted) targerts for our training data stored? print those too.\u001b[0m\u001b[0;34m\u001b[0m\u001b[0;34m\u001b[0m\u001b[0;34m\u001b[0m\u001b[0m\n",
            "\u001b[0;31mNameError\u001b[0m: name 'svm' is not defined"
          ]
        }
      ]
    },
    {
      "cell_type": "markdown",
      "metadata": {
        "id": "nsIUVwQ7S-dz",
        "colab_type": "text"
      },
      "source": [
        "#### 5) Validate on test data (and, for your reference, compare to performance on training data)"
      ]
    },
    {
      "cell_type": "code",
      "metadata": {
        "id": "4v_T1hOQS-dz",
        "colab_type": "code",
        "colab": {}
      },
      "source": [
        "## score on train"
      ],
      "execution_count": 0,
      "outputs": []
    },
    {
      "cell_type": "code",
      "metadata": {
        "id": "N-mVSIHJS-d0",
        "colab_type": "code",
        "colab": {}
      },
      "source": [
        "# score on test"
      ],
      "execution_count": 0,
      "outputs": []
    },
    {
      "cell_type": "code",
      "metadata": {
        "id": "tnBR4PTtS-d0",
        "colab_type": "code",
        "colab": {}
      },
      "source": [
        ""
      ],
      "execution_count": 0,
      "outputs": []
    },
    {
      "cell_type": "code",
      "metadata": {
        "id": "umvUVKnsS-d1",
        "colab_type": "code",
        "colab": {}
      },
      "source": [
        "## Acknowledgments"
      ],
      "execution_count": 0,
      "outputs": []
    },
    {
      "cell_type": "code",
      "metadata": {
        "id": "5_6wLdezS-d1",
        "colab_type": "code",
        "colab": {}
      },
      "source": [
        ""
      ],
      "execution_count": 0,
      "outputs": []
    }
  ]
}